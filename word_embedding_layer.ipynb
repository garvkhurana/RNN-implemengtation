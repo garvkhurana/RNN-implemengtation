{
 "cells": [
  {
   "cell_type": "code",
   "execution_count": 1,
   "id": "740a5bf3-1ac0-45dd-9895-5b941863c5fd",
   "metadata": {},
   "outputs": [
    {
     "name": "stdout",
     "output_type": "stream",
     "text": [
      "2.16.1\n"
     ]
    }
   ],
   "source": [
    "import tensorflow\n",
    "print(tensorflow.__version__)"
   ]
  },
  {
   "cell_type": "code",
   "execution_count": 2,
   "id": "33127017-96da-49c7-a0a1-5c368325f81e",
   "metadata": {},
   "outputs": [],
   "source": [
    "from tensorflow.keras.preprocessing.text import one_hot"
   ]
  },
  {
   "cell_type": "code",
   "execution_count": 3,
   "id": "10b2bdd9-6b96-4969-b24c-74dcc72e600e",
   "metadata": {},
   "outputs": [],
   "source": [
    "sent=[\"The world is a better place\",\n",
    "      \"Marvel series is my favourite movie\",\n",
    "      \"I like DC movies\",\n",
    "      \"the cat is eating the food\",\n",
    "      \"Tom and Jerry is my favourite movie\",\n",
    "      \"Python is my favourite programming language\"\n",
    "      ]"
   ]
  },
  {
   "cell_type": "code",
   "execution_count": 4,
   "id": "403b1f12-999a-4444-8c59-91698a8b6c83",
   "metadata": {},
   "outputs": [],
   "source": [
    "one_hot=[one_hot(word,n=100) for word in sent]"
   ]
  },
  {
   "cell_type": "code",
   "execution_count": 5,
   "id": "a0047a7e-335c-4401-8cb5-e0f3f11c5433",
   "metadata": {},
   "outputs": [
    {
     "data": {
      "text/plain": [
       "[[38, 40, 26, 77, 62, 85],\n",
       " [8, 19, 26, 59, 18, 81],\n",
       " [50, 91, 96, 48],\n",
       " [38, 85, 26, 69, 38, 51],\n",
       " [18, 7, 31, 26, 59, 18, 81],\n",
       " [3, 26, 59, 18, 75, 65]]"
      ]
     },
     "execution_count": 5,
     "metadata": {},
     "output_type": "execute_result"
    }
   ],
   "source": [
    "one_hot"
   ]
  },
  {
   "cell_type": "code",
   "execution_count": 7,
   "id": "2dff6887-57fa-436c-9730-c13755d38710",
   "metadata": {},
   "outputs": [],
   "source": [
    "from tensorflow.keras.preprocessing.sequence import pad_sequences"
   ]
  },
  {
   "cell_type": "code",
   "execution_count": 8,
   "id": "e5c62b1a-0cf5-4c39-804c-609e6253ab12",
   "metadata": {},
   "outputs": [],
   "source": [
    "padding=pad_sequences(one_hot,maxlen=10,padding='pre',)"
   ]
  },
  {
   "cell_type": "code",
   "execution_count": 9,
   "id": "6d525b5c-ccd6-436a-9ccb-f7e10faa3a49",
   "metadata": {},
   "outputs": [
    {
     "data": {
      "text/plain": [
       "array([[ 0,  0,  0,  0, 38, 40, 26, 77, 62, 85],\n",
       "       [ 0,  0,  0,  0,  8, 19, 26, 59, 18, 81],\n",
       "       [ 0,  0,  0,  0,  0,  0, 50, 91, 96, 48],\n",
       "       [ 0,  0,  0,  0, 38, 85, 26, 69, 38, 51],\n",
       "       [ 0,  0,  0, 18,  7, 31, 26, 59, 18, 81],\n",
       "       [ 0,  0,  0,  0,  3, 26, 59, 18, 75, 65]])"
      ]
     },
     "execution_count": 9,
     "metadata": {},
     "output_type": "execute_result"
    }
   ],
   "source": [
    "padding"
   ]
  },
  {
   "cell_type": "code",
   "execution_count": 25,
   "id": "99fef4cd-cb3c-4aed-8032-7c93e2119738",
   "metadata": {},
   "outputs": [],
   "source": [
    "from tensorflow.keras.layers import Embedding,Input\n",
    "from tensorflow.keras.models import Sequential"
   ]
  },
  {
   "cell_type": "code",
   "execution_count": 26,
   "id": "f6345265-100e-4654-ba35-bcc969fb7cc7",
   "metadata": {},
   "outputs": [],
   "source": [
    "model=Sequential()"
   ]
  },
  {
   "cell_type": "code",
   "execution_count": 27,
   "id": "3102abf4-fd78-42d7-95e3-2fafaad7c1bb",
   "metadata": {},
   "outputs": [],
   "source": [
    "model.add(Input(shape=(8,)))"
   ]
  },
  {
   "cell_type": "code",
   "execution_count": 28,
   "id": "724f0252-29bf-4eb9-8eda-a5328bb46e5a",
   "metadata": {},
   "outputs": [
    {
     "data": {
      "text/html": [
       "<pre style=\"white-space:pre;overflow-x:auto;line-height:normal;font-family:Menlo,'DejaVu Sans Mono',consolas,'Courier New',monospace\"><span style=\"font-weight: bold\">Model: \"sequential_1\"</span>\n",
       "</pre>\n"
      ],
      "text/plain": [
       "\u001b[1mModel: \"sequential_1\"\u001b[0m\n"
      ]
     },
     "metadata": {},
     "output_type": "display_data"
    },
    {
     "data": {
      "text/html": [
       "<pre style=\"white-space:pre;overflow-x:auto;line-height:normal;font-family:Menlo,'DejaVu Sans Mono',consolas,'Courier New',monospace\">┏━━━━━━━━━━━━━━━━━━━━━━━━━━━━━━━━━━━━━━┳━━━━━━━━━━━━━━━━━━━━━━━━━━━━━┳━━━━━━━━━━━━━━━━━┓\n",
       "┃<span style=\"font-weight: bold\"> Layer (type)                         </span>┃<span style=\"font-weight: bold\"> Output Shape                </span>┃<span style=\"font-weight: bold\">         Param # </span>┃\n",
       "┡━━━━━━━━━━━━━━━━━━━━━━━━━━━━━━━━━━━━━━╇━━━━━━━━━━━━━━━━━━━━━━━━━━━━━╇━━━━━━━━━━━━━━━━━┩\n",
       "└──────────────────────────────────────┴─────────────────────────────┴─────────────────┘\n",
       "</pre>\n"
      ],
      "text/plain": [
       "┏━━━━━━━━━━━━━━━━━━━━━━━━━━━━━━━━━━━━━━┳━━━━━━━━━━━━━━━━━━━━━━━━━━━━━┳━━━━━━━━━━━━━━━━━┓\n",
       "┃\u001b[1m \u001b[0m\u001b[1mLayer (type)                        \u001b[0m\u001b[1m \u001b[0m┃\u001b[1m \u001b[0m\u001b[1mOutput Shape               \u001b[0m\u001b[1m \u001b[0m┃\u001b[1m \u001b[0m\u001b[1m        Param #\u001b[0m\u001b[1m \u001b[0m┃\n",
       "┡━━━━━━━━━━━━━━━━━━━━━━━━━━━━━━━━━━━━━━╇━━━━━━━━━━━━━━━━━━━━━━━━━━━━━╇━━━━━━━━━━━━━━━━━┩\n",
       "└──────────────────────────────────────┴─────────────────────────────┴─────────────────┘\n"
      ]
     },
     "metadata": {},
     "output_type": "display_data"
    },
    {
     "data": {
      "text/html": [
       "<pre style=\"white-space:pre;overflow-x:auto;line-height:normal;font-family:Menlo,'DejaVu Sans Mono',consolas,'Courier New',monospace\"><span style=\"font-weight: bold\"> Total params: </span><span style=\"color: #00af00; text-decoration-color: #00af00\">0</span> (0.00 B)\n",
       "</pre>\n"
      ],
      "text/plain": [
       "\u001b[1m Total params: \u001b[0m\u001b[38;5;34m0\u001b[0m (0.00 B)\n"
      ]
     },
     "metadata": {},
     "output_type": "display_data"
    },
    {
     "data": {
      "text/html": [
       "<pre style=\"white-space:pre;overflow-x:auto;line-height:normal;font-family:Menlo,'DejaVu Sans Mono',consolas,'Courier New',monospace\"><span style=\"font-weight: bold\"> Trainable params: </span><span style=\"color: #00af00; text-decoration-color: #00af00\">0</span> (0.00 B)\n",
       "</pre>\n"
      ],
      "text/plain": [
       "\u001b[1m Trainable params: \u001b[0m\u001b[38;5;34m0\u001b[0m (0.00 B)\n"
      ]
     },
     "metadata": {},
     "output_type": "display_data"
    },
    {
     "data": {
      "text/html": [
       "<pre style=\"white-space:pre;overflow-x:auto;line-height:normal;font-family:Menlo,'DejaVu Sans Mono',consolas,'Courier New',monospace\"><span style=\"font-weight: bold\"> Non-trainable params: </span><span style=\"color: #00af00; text-decoration-color: #00af00\">0</span> (0.00 B)\n",
       "</pre>\n"
      ],
      "text/plain": [
       "\u001b[1m Non-trainable params: \u001b[0m\u001b[38;5;34m0\u001b[0m (0.00 B)\n"
      ]
     },
     "metadata": {},
     "output_type": "display_data"
    }
   ],
   "source": [
    "model.summary()"
   ]
  },
  {
   "cell_type": "code",
   "execution_count": 29,
   "id": "ef8baff8-6835-4a86-ba01-5cb5f15ef9ed",
   "metadata": {},
   "outputs": [],
   "source": [
    "model.add(Embedding(100, 10))"
   ]
  },
  {
   "cell_type": "code",
   "execution_count": 30,
   "id": "fe2f7145-7592-4e29-ad81-573125ee6c83",
   "metadata": {},
   "outputs": [
    {
     "data": {
      "text/html": [
       "<pre style=\"white-space:pre;overflow-x:auto;line-height:normal;font-family:Menlo,'DejaVu Sans Mono',consolas,'Courier New',monospace\"><span style=\"font-weight: bold\">Model: \"sequential_1\"</span>\n",
       "</pre>\n"
      ],
      "text/plain": [
       "\u001b[1mModel: \"sequential_1\"\u001b[0m\n"
      ]
     },
     "metadata": {},
     "output_type": "display_data"
    },
    {
     "data": {
      "text/html": [
       "<pre style=\"white-space:pre;overflow-x:auto;line-height:normal;font-family:Menlo,'DejaVu Sans Mono',consolas,'Courier New',monospace\">┏━━━━━━━━━━━━━━━━━━━━━━━━━━━━━━━━━━━━━━┳━━━━━━━━━━━━━━━━━━━━━━━━━━━━━┳━━━━━━━━━━━━━━━━━┓\n",
       "┃<span style=\"font-weight: bold\"> Layer (type)                         </span>┃<span style=\"font-weight: bold\"> Output Shape                </span>┃<span style=\"font-weight: bold\">         Param # </span>┃\n",
       "┡━━━━━━━━━━━━━━━━━━━━━━━━━━━━━━━━━━━━━━╇━━━━━━━━━━━━━━━━━━━━━━━━━━━━━╇━━━━━━━━━━━━━━━━━┩\n",
       "│ embedding_2 (<span style=\"color: #0087ff; text-decoration-color: #0087ff\">Embedding</span>)              │ (<span style=\"color: #00d7ff; text-decoration-color: #00d7ff\">None</span>, <span style=\"color: #00af00; text-decoration-color: #00af00\">8</span>, <span style=\"color: #00af00; text-decoration-color: #00af00\">10</span>)               │           <span style=\"color: #00af00; text-decoration-color: #00af00\">1,000</span> │\n",
       "└──────────────────────────────────────┴─────────────────────────────┴─────────────────┘\n",
       "</pre>\n"
      ],
      "text/plain": [
       "┏━━━━━━━━━━━━━━━━━━━━━━━━━━━━━━━━━━━━━━┳━━━━━━━━━━━━━━━━━━━━━━━━━━━━━┳━━━━━━━━━━━━━━━━━┓\n",
       "┃\u001b[1m \u001b[0m\u001b[1mLayer (type)                        \u001b[0m\u001b[1m \u001b[0m┃\u001b[1m \u001b[0m\u001b[1mOutput Shape               \u001b[0m\u001b[1m \u001b[0m┃\u001b[1m \u001b[0m\u001b[1m        Param #\u001b[0m\u001b[1m \u001b[0m┃\n",
       "┡━━━━━━━━━━━━━━━━━━━━━━━━━━━━━━━━━━━━━━╇━━━━━━━━━━━━━━━━━━━━━━━━━━━━━╇━━━━━━━━━━━━━━━━━┩\n",
       "│ embedding_2 (\u001b[38;5;33mEmbedding\u001b[0m)              │ (\u001b[38;5;45mNone\u001b[0m, \u001b[38;5;34m8\u001b[0m, \u001b[38;5;34m10\u001b[0m)               │           \u001b[38;5;34m1,000\u001b[0m │\n",
       "└──────────────────────────────────────┴─────────────────────────────┴─────────────────┘\n"
      ]
     },
     "metadata": {},
     "output_type": "display_data"
    },
    {
     "data": {
      "text/html": [
       "<pre style=\"white-space:pre;overflow-x:auto;line-height:normal;font-family:Menlo,'DejaVu Sans Mono',consolas,'Courier New',monospace\"><span style=\"font-weight: bold\"> Total params: </span><span style=\"color: #00af00; text-decoration-color: #00af00\">1,000</span> (3.91 KB)\n",
       "</pre>\n"
      ],
      "text/plain": [
       "\u001b[1m Total params: \u001b[0m\u001b[38;5;34m1,000\u001b[0m (3.91 KB)\n"
      ]
     },
     "metadata": {},
     "output_type": "display_data"
    },
    {
     "data": {
      "text/html": [
       "<pre style=\"white-space:pre;overflow-x:auto;line-height:normal;font-family:Menlo,'DejaVu Sans Mono',consolas,'Courier New',monospace\"><span style=\"font-weight: bold\"> Trainable params: </span><span style=\"color: #00af00; text-decoration-color: #00af00\">1,000</span> (3.91 KB)\n",
       "</pre>\n"
      ],
      "text/plain": [
       "\u001b[1m Trainable params: \u001b[0m\u001b[38;5;34m1,000\u001b[0m (3.91 KB)\n"
      ]
     },
     "metadata": {},
     "output_type": "display_data"
    },
    {
     "data": {
      "text/html": [
       "<pre style=\"white-space:pre;overflow-x:auto;line-height:normal;font-family:Menlo,'DejaVu Sans Mono',consolas,'Courier New',monospace\"><span style=\"font-weight: bold\"> Non-trainable params: </span><span style=\"color: #00af00; text-decoration-color: #00af00\">0</span> (0.00 B)\n",
       "</pre>\n"
      ],
      "text/plain": [
       "\u001b[1m Non-trainable params: \u001b[0m\u001b[38;5;34m0\u001b[0m (0.00 B)\n"
      ]
     },
     "metadata": {},
     "output_type": "display_data"
    }
   ],
   "source": [
    "model.summary()"
   ]
  },
  {
   "cell_type": "code",
   "execution_count": 31,
   "id": "6c00d317-0332-42ab-9664-ec3b08eb17dc",
   "metadata": {},
   "outputs": [],
   "source": [
    "model.compile('adam','mse')"
   ]
  },
  {
   "cell_type": "code",
   "execution_count": 32,
   "id": "8855caa4-ece3-47fb-9b94-e372d2f40bef",
   "metadata": {},
   "outputs": [
    {
     "data": {
      "text/html": [
       "<pre style=\"white-space:pre;overflow-x:auto;line-height:normal;font-family:Menlo,'DejaVu Sans Mono',consolas,'Courier New',monospace\"><span style=\"font-weight: bold\">Model: \"sequential_1\"</span>\n",
       "</pre>\n"
      ],
      "text/plain": [
       "\u001b[1mModel: \"sequential_1\"\u001b[0m\n"
      ]
     },
     "metadata": {},
     "output_type": "display_data"
    },
    {
     "data": {
      "text/html": [
       "<pre style=\"white-space:pre;overflow-x:auto;line-height:normal;font-family:Menlo,'DejaVu Sans Mono',consolas,'Courier New',monospace\">┏━━━━━━━━━━━━━━━━━━━━━━━━━━━━━━━━━━━━━━┳━━━━━━━━━━━━━━━━━━━━━━━━━━━━━┳━━━━━━━━━━━━━━━━━┓\n",
       "┃<span style=\"font-weight: bold\"> Layer (type)                         </span>┃<span style=\"font-weight: bold\"> Output Shape                </span>┃<span style=\"font-weight: bold\">         Param # </span>┃\n",
       "┡━━━━━━━━━━━━━━━━━━━━━━━━━━━━━━━━━━━━━━╇━━━━━━━━━━━━━━━━━━━━━━━━━━━━━╇━━━━━━━━━━━━━━━━━┩\n",
       "│ embedding_2 (<span style=\"color: #0087ff; text-decoration-color: #0087ff\">Embedding</span>)              │ (<span style=\"color: #00d7ff; text-decoration-color: #00d7ff\">None</span>, <span style=\"color: #00af00; text-decoration-color: #00af00\">8</span>, <span style=\"color: #00af00; text-decoration-color: #00af00\">10</span>)               │           <span style=\"color: #00af00; text-decoration-color: #00af00\">1,000</span> │\n",
       "└──────────────────────────────────────┴─────────────────────────────┴─────────────────┘\n",
       "</pre>\n"
      ],
      "text/plain": [
       "┏━━━━━━━━━━━━━━━━━━━━━━━━━━━━━━━━━━━━━━┳━━━━━━━━━━━━━━━━━━━━━━━━━━━━━┳━━━━━━━━━━━━━━━━━┓\n",
       "┃\u001b[1m \u001b[0m\u001b[1mLayer (type)                        \u001b[0m\u001b[1m \u001b[0m┃\u001b[1m \u001b[0m\u001b[1mOutput Shape               \u001b[0m\u001b[1m \u001b[0m┃\u001b[1m \u001b[0m\u001b[1m        Param #\u001b[0m\u001b[1m \u001b[0m┃\n",
       "┡━━━━━━━━━━━━━━━━━━━━━━━━━━━━━━━━━━━━━━╇━━━━━━━━━━━━━━━━━━━━━━━━━━━━━╇━━━━━━━━━━━━━━━━━┩\n",
       "│ embedding_2 (\u001b[38;5;33mEmbedding\u001b[0m)              │ (\u001b[38;5;45mNone\u001b[0m, \u001b[38;5;34m8\u001b[0m, \u001b[38;5;34m10\u001b[0m)               │           \u001b[38;5;34m1,000\u001b[0m │\n",
       "└──────────────────────────────────────┴─────────────────────────────┴─────────────────┘\n"
      ]
     },
     "metadata": {},
     "output_type": "display_data"
    },
    {
     "data": {
      "text/html": [
       "<pre style=\"white-space:pre;overflow-x:auto;line-height:normal;font-family:Menlo,'DejaVu Sans Mono',consolas,'Courier New',monospace\"><span style=\"font-weight: bold\"> Total params: </span><span style=\"color: #00af00; text-decoration-color: #00af00\">1,000</span> (3.91 KB)\n",
       "</pre>\n"
      ],
      "text/plain": [
       "\u001b[1m Total params: \u001b[0m\u001b[38;5;34m1,000\u001b[0m (3.91 KB)\n"
      ]
     },
     "metadata": {},
     "output_type": "display_data"
    },
    {
     "data": {
      "text/html": [
       "<pre style=\"white-space:pre;overflow-x:auto;line-height:normal;font-family:Menlo,'DejaVu Sans Mono',consolas,'Courier New',monospace\"><span style=\"font-weight: bold\"> Trainable params: </span><span style=\"color: #00af00; text-decoration-color: #00af00\">1,000</span> (3.91 KB)\n",
       "</pre>\n"
      ],
      "text/plain": [
       "\u001b[1m Trainable params: \u001b[0m\u001b[38;5;34m1,000\u001b[0m (3.91 KB)\n"
      ]
     },
     "metadata": {},
     "output_type": "display_data"
    },
    {
     "data": {
      "text/html": [
       "<pre style=\"white-space:pre;overflow-x:auto;line-height:normal;font-family:Menlo,'DejaVu Sans Mono',consolas,'Courier New',monospace\"><span style=\"font-weight: bold\"> Non-trainable params: </span><span style=\"color: #00af00; text-decoration-color: #00af00\">0</span> (0.00 B)\n",
       "</pre>\n"
      ],
      "text/plain": [
       "\u001b[1m Non-trainable params: \u001b[0m\u001b[38;5;34m0\u001b[0m (0.00 B)\n"
      ]
     },
     "metadata": {},
     "output_type": "display_data"
    }
   ],
   "source": [
    "model.summary()"
   ]
  },
  {
   "cell_type": "code",
   "execution_count": 33,
   "id": "126639c3-9061-4741-aff3-ae8bf6df2108",
   "metadata": {},
   "outputs": [
    {
     "name": "stdout",
     "output_type": "stream",
     "text": [
      "\u001b[1m1/1\u001b[0m \u001b[32m━━━━━━━━━━━━━━━━━━━━\u001b[0m\u001b[37m\u001b[0m \u001b[1m0s\u001b[0m 323ms/step\n"
     ]
    },
    {
     "data": {
      "text/plain": [
       "array([[[-0.0356462 ,  0.01869314,  0.03517411,  0.03274253,\n",
       "          0.00674065,  0.01587394, -0.04929774,  0.03984625,\n",
       "          0.01315067, -0.00254384],\n",
       "        [-0.0356462 ,  0.01869314,  0.03517411,  0.03274253,\n",
       "          0.00674065,  0.01587394, -0.04929774,  0.03984625,\n",
       "          0.01315067, -0.00254384],\n",
       "        [-0.0356462 ,  0.01869314,  0.03517411,  0.03274253,\n",
       "          0.00674065,  0.01587394, -0.04929774,  0.03984625,\n",
       "          0.01315067, -0.00254384],\n",
       "        [-0.0356462 ,  0.01869314,  0.03517411,  0.03274253,\n",
       "          0.00674065,  0.01587394, -0.04929774,  0.03984625,\n",
       "          0.01315067, -0.00254384],\n",
       "        [ 0.03152312, -0.02861913, -0.03343841,  0.01001851,\n",
       "         -0.03070289, -0.03953882,  0.0227212 , -0.01433516,\n",
       "          0.00824366,  0.01430221],\n",
       "        [ 0.03447313, -0.02547123,  0.00151714,  0.04697803,\n",
       "          0.04758522,  0.01192557,  0.04750941, -0.01722103,\n",
       "         -0.00300191,  0.04726907],\n",
       "        [-0.01524233,  0.02651614, -0.00947596,  0.01501376,\n",
       "         -0.04348003, -0.01428541,  0.00487303, -0.0223174 ,\n",
       "          0.04320325, -0.01326676],\n",
       "        [ 0.039594  ,  0.01654958,  0.00524636, -0.0038479 ,\n",
       "         -0.03803416, -0.01711764,  0.00021046, -0.04332745,\n",
       "          0.03836253,  0.01097436],\n",
       "        [ 0.01577817, -0.00151008,  0.03461515, -0.04958921,\n",
       "         -0.01742115,  0.01721912, -0.01039209,  0.01215768,\n",
       "         -0.00878901, -0.00829772],\n",
       "        [ 0.00249034,  0.02137865,  0.00077558,  0.02569946,\n",
       "         -0.02519227,  0.02219789,  0.01749153,  0.02420593,\n",
       "         -0.04640102, -0.0257507 ]],\n",
       "\n",
       "       [[-0.0356462 ,  0.01869314,  0.03517411,  0.03274253,\n",
       "          0.00674065,  0.01587394, -0.04929774,  0.03984625,\n",
       "          0.01315067, -0.00254384],\n",
       "        [-0.0356462 ,  0.01869314,  0.03517411,  0.03274253,\n",
       "          0.00674065,  0.01587394, -0.04929774,  0.03984625,\n",
       "          0.01315067, -0.00254384],\n",
       "        [-0.0356462 ,  0.01869314,  0.03517411,  0.03274253,\n",
       "          0.00674065,  0.01587394, -0.04929774,  0.03984625,\n",
       "          0.01315067, -0.00254384],\n",
       "        [-0.0356462 ,  0.01869314,  0.03517411,  0.03274253,\n",
       "          0.00674065,  0.01587394, -0.04929774,  0.03984625,\n",
       "          0.01315067, -0.00254384],\n",
       "        [-0.01502565,  0.04853604, -0.02747295, -0.03946482,\n",
       "          0.03261397,  0.00210715,  0.04283221, -0.02915932,\n",
       "          0.02616929,  0.0428204 ],\n",
       "        [ 0.03725321,  0.01463674, -0.01765209, -0.00654141,\n",
       "         -0.04148129,  0.04580331, -0.04345555,  0.00467306,\n",
       "          0.02049564,  0.02784482],\n",
       "        [-0.01524233,  0.02651614, -0.00947596,  0.01501376,\n",
       "         -0.04348003, -0.01428541,  0.00487303, -0.0223174 ,\n",
       "          0.04320325, -0.01326676],\n",
       "        [ 0.01054746,  0.00040262,  0.01262784, -0.02211057,\n",
       "          0.04722587, -0.03152708, -0.04295377,  0.02505832,\n",
       "         -0.03231975,  0.00547216],\n",
       "        [ 0.03025602,  0.03276074, -0.04157828, -0.00971594,\n",
       "         -0.02449137,  0.03799846,  0.01419948, -0.01767098,\n",
       "          0.0040543 , -0.03739572],\n",
       "        [ 0.01040604,  0.02241446,  0.04201739, -0.02272256,\n",
       "         -0.0072554 , -0.03194655,  0.03464795, -0.01976749,\n",
       "         -0.02176978, -0.00676437]],\n",
       "\n",
       "       [[-0.0356462 ,  0.01869314,  0.03517411,  0.03274253,\n",
       "          0.00674065,  0.01587394, -0.04929774,  0.03984625,\n",
       "          0.01315067, -0.00254384],\n",
       "        [-0.0356462 ,  0.01869314,  0.03517411,  0.03274253,\n",
       "          0.00674065,  0.01587394, -0.04929774,  0.03984625,\n",
       "          0.01315067, -0.00254384],\n",
       "        [-0.0356462 ,  0.01869314,  0.03517411,  0.03274253,\n",
       "          0.00674065,  0.01587394, -0.04929774,  0.03984625,\n",
       "          0.01315067, -0.00254384],\n",
       "        [-0.0356462 ,  0.01869314,  0.03517411,  0.03274253,\n",
       "          0.00674065,  0.01587394, -0.04929774,  0.03984625,\n",
       "          0.01315067, -0.00254384],\n",
       "        [-0.0356462 ,  0.01869314,  0.03517411,  0.03274253,\n",
       "          0.00674065,  0.01587394, -0.04929774,  0.03984625,\n",
       "          0.01315067, -0.00254384],\n",
       "        [-0.0356462 ,  0.01869314,  0.03517411,  0.03274253,\n",
       "          0.00674065,  0.01587394, -0.04929774,  0.03984625,\n",
       "          0.01315067, -0.00254384],\n",
       "        [ 0.02601563, -0.02843779,  0.04343623, -0.04608342,\n",
       "          0.0134635 ,  0.0467832 , -0.00449902, -0.0408672 ,\n",
       "          0.02967599,  0.01523762],\n",
       "        [ 0.04741888,  0.01597694, -0.02816415, -0.02505643,\n",
       "         -0.03478283, -0.00022888, -0.02114905,  0.00592815,\n",
       "         -0.02948554,  0.02735407],\n",
       "        [-0.02900733, -0.0369625 ,  0.01463925, -0.03030481,\n",
       "          0.04215658,  0.00706291, -0.00255078, -0.00354666,\n",
       "         -0.00258219,  0.04372451],\n",
       "        [-0.01549511, -0.01367116,  0.01801126,  0.01739944,\n",
       "          0.00721164,  0.03557855,  0.00502578, -0.04037536,\n",
       "         -0.02568393, -0.0015642 ]],\n",
       "\n",
       "       [[-0.0356462 ,  0.01869314,  0.03517411,  0.03274253,\n",
       "          0.00674065,  0.01587394, -0.04929774,  0.03984625,\n",
       "          0.01315067, -0.00254384],\n",
       "        [-0.0356462 ,  0.01869314,  0.03517411,  0.03274253,\n",
       "          0.00674065,  0.01587394, -0.04929774,  0.03984625,\n",
       "          0.01315067, -0.00254384],\n",
       "        [-0.0356462 ,  0.01869314,  0.03517411,  0.03274253,\n",
       "          0.00674065,  0.01587394, -0.04929774,  0.03984625,\n",
       "          0.01315067, -0.00254384],\n",
       "        [-0.0356462 ,  0.01869314,  0.03517411,  0.03274253,\n",
       "          0.00674065,  0.01587394, -0.04929774,  0.03984625,\n",
       "          0.01315067, -0.00254384],\n",
       "        [ 0.03152312, -0.02861913, -0.03343841,  0.01001851,\n",
       "         -0.03070289, -0.03953882,  0.0227212 , -0.01433516,\n",
       "          0.00824366,  0.01430221],\n",
       "        [ 0.00249034,  0.02137865,  0.00077558,  0.02569946,\n",
       "         -0.02519227,  0.02219789,  0.01749153,  0.02420593,\n",
       "         -0.04640102, -0.0257507 ],\n",
       "        [-0.01524233,  0.02651614, -0.00947596,  0.01501376,\n",
       "         -0.04348003, -0.01428541,  0.00487303, -0.0223174 ,\n",
       "          0.04320325, -0.01326676],\n",
       "        [ 0.02001511,  0.03605095, -0.00575007,  0.02078385,\n",
       "         -0.02903291,  0.04538817,  0.00321519,  0.03761779,\n",
       "          0.02641879, -0.04258293],\n",
       "        [ 0.03152312, -0.02861913, -0.03343841,  0.01001851,\n",
       "         -0.03070289, -0.03953882,  0.0227212 , -0.01433516,\n",
       "          0.00824366,  0.01430221],\n",
       "        [ 0.00661186, -0.02030052, -0.04980459,  0.02764574,\n",
       "          0.04055637, -0.02549211,  0.01532762,  0.03398388,\n",
       "          0.01521272, -0.04192806]],\n",
       "\n",
       "       [[-0.0356462 ,  0.01869314,  0.03517411,  0.03274253,\n",
       "          0.00674065,  0.01587394, -0.04929774,  0.03984625,\n",
       "          0.01315067, -0.00254384],\n",
       "        [-0.0356462 ,  0.01869314,  0.03517411,  0.03274253,\n",
       "          0.00674065,  0.01587394, -0.04929774,  0.03984625,\n",
       "          0.01315067, -0.00254384],\n",
       "        [-0.0356462 ,  0.01869314,  0.03517411,  0.03274253,\n",
       "          0.00674065,  0.01587394, -0.04929774,  0.03984625,\n",
       "          0.01315067, -0.00254384],\n",
       "        [ 0.03025602,  0.03276074, -0.04157828, -0.00971594,\n",
       "         -0.02449137,  0.03799846,  0.01419948, -0.01767098,\n",
       "          0.0040543 , -0.03739572],\n",
       "        [-0.03498971,  0.03037104,  0.02289195, -0.01199953,\n",
       "         -0.02229973, -0.00821416,  0.03930369, -0.02491   ,\n",
       "         -0.00322498, -0.04157528],\n",
       "        [ 0.04851726, -0.00463786, -0.02749513,  0.0278993 ,\n",
       "          0.02172757, -0.02105823, -0.00404828, -0.03525937,\n",
       "         -0.0279349 ,  0.03596796],\n",
       "        [-0.01524233,  0.02651614, -0.00947596,  0.01501376,\n",
       "         -0.04348003, -0.01428541,  0.00487303, -0.0223174 ,\n",
       "          0.04320325, -0.01326676],\n",
       "        [ 0.01054746,  0.00040262,  0.01262784, -0.02211057,\n",
       "          0.04722587, -0.03152708, -0.04295377,  0.02505832,\n",
       "         -0.03231975,  0.00547216],\n",
       "        [ 0.03025602,  0.03276074, -0.04157828, -0.00971594,\n",
       "         -0.02449137,  0.03799846,  0.01419948, -0.01767098,\n",
       "          0.0040543 , -0.03739572],\n",
       "        [ 0.01040604,  0.02241446,  0.04201739, -0.02272256,\n",
       "         -0.0072554 , -0.03194655,  0.03464795, -0.01976749,\n",
       "         -0.02176978, -0.00676437]],\n",
       "\n",
       "       [[-0.0356462 ,  0.01869314,  0.03517411,  0.03274253,\n",
       "          0.00674065,  0.01587394, -0.04929774,  0.03984625,\n",
       "          0.01315067, -0.00254384],\n",
       "        [-0.0356462 ,  0.01869314,  0.03517411,  0.03274253,\n",
       "          0.00674065,  0.01587394, -0.04929774,  0.03984625,\n",
       "          0.01315067, -0.00254384],\n",
       "        [-0.0356462 ,  0.01869314,  0.03517411,  0.03274253,\n",
       "          0.00674065,  0.01587394, -0.04929774,  0.03984625,\n",
       "          0.01315067, -0.00254384],\n",
       "        [-0.0356462 ,  0.01869314,  0.03517411,  0.03274253,\n",
       "          0.00674065,  0.01587394, -0.04929774,  0.03984625,\n",
       "          0.01315067, -0.00254384],\n",
       "        [ 0.04713866,  0.04747025, -0.01349943,  0.00457202,\n",
       "          0.02203259,  0.01577904, -0.02550358, -0.01877739,\n",
       "          0.02702787, -0.00774902],\n",
       "        [-0.01524233,  0.02651614, -0.00947596,  0.01501376,\n",
       "         -0.04348003, -0.01428541,  0.00487303, -0.0223174 ,\n",
       "          0.04320325, -0.01326676],\n",
       "        [ 0.01054746,  0.00040262,  0.01262784, -0.02211057,\n",
       "          0.04722587, -0.03152708, -0.04295377,  0.02505832,\n",
       "         -0.03231975,  0.00547216],\n",
       "        [ 0.03025602,  0.03276074, -0.04157828, -0.00971594,\n",
       "         -0.02449137,  0.03799846,  0.01419948, -0.01767098,\n",
       "          0.0040543 , -0.03739572],\n",
       "        [-0.02975084,  0.01560186,  0.04245598, -0.01933935,\n",
       "         -0.01649154, -0.0442096 , -0.02683948,  0.00390192,\n",
       "         -0.02226243, -0.00736032],\n",
       "        [ 0.02102796,  0.0003029 , -0.02500817,  0.00225446,\n",
       "          0.02190039,  0.04199109, -0.00810462,  0.00103339,\n",
       "          0.03565829, -0.00468571]]], dtype=float32)"
      ]
     },
     "execution_count": 33,
     "metadata": {},
     "output_type": "execute_result"
    }
   ],
   "source": [
    "model.predict(padding)"
   ]
  },
  {
   "cell_type": "code",
   "execution_count": null,
   "id": "0913b82c-e24a-42f6-bb7e-a89d8ddf4e96",
   "metadata": {},
   "outputs": [],
   "source": []
  }
 ],
 "metadata": {
  "kernelspec": {
   "display_name": "Python 3 (ipykernel)",
   "language": "python",
   "name": "python3"
  },
  "language_info": {
   "codemirror_mode": {
    "name": "ipython",
    "version": 3
   },
   "file_extension": ".py",
   "mimetype": "text/x-python",
   "name": "python",
   "nbconvert_exporter": "python",
   "pygments_lexer": "ipython3",
   "version": "3.11.5"
  }
 },
 "nbformat": 4,
 "nbformat_minor": 5
}
